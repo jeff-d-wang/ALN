{
 "cells": [
  {
   "cell_type": "code",
   "execution_count": 2,
   "id": "ae278dcb",
   "metadata": {},
   "outputs": [
    {
     "name": "stdout",
     "output_type": "stream",
     "text": [
      "3\n"
     ]
    }
   ],
   "source": [
    "print('3')"
   ]
  },
  {
   "cell_type": "code",
   "execution_count": 8,
   "id": "9fa8ae55",
   "metadata": {},
   "outputs": [
    {
     "name": "stdout",
     "output_type": "stream",
     "text": [
      "44\n"
     ]
    }
   ],
   "source": [
    "print('44')"
   ]
  },
  {
   "cell_type": "code",
   "execution_count": 10,
   "id": "57b9dd9f",
   "metadata": {},
   "outputs": [
    {
     "name": "stdout",
     "output_type": "stream",
     "text": [
      "asdfasdfasdf\n"
     ]
    }
   ],
   "source": [
    "print('asdfasdfasdf')"
   ]
  },
  {
   "cell_type": "code",
   "execution_count": 11,
   "id": "5f0d49c4",
   "metadata": {},
   "outputs": [
    {
     "name": "stdout",
     "output_type": "stream",
     "text": [
      "asdfasfasd\n"
     ]
    }
   ],
   "source": [
    "print('asdfasfasd')"
   ]
  },
  {
   "cell_type": "code",
   "execution_count": null,
   "id": "533e61fd",
   "metadata": {},
   "outputs": [],
   "source": []
  },
  {
   "cell_type": "code",
   "execution_count": null,
   "id": "3bc68a23",
   "metadata": {},
   "outputs": [],
   "source": []
  }
 ],
 "metadata": {
  "kernelspec": {
   "display_name": "base",
   "language": "python",
   "name": "python3"
  },
  "language_info": {
   "codemirror_mode": {
    "name": "ipython",
    "version": 3
   },
   "file_extension": ".py",
   "mimetype": "text/x-python",
   "name": "python",
   "nbconvert_exporter": "python",
   "pygments_lexer": "ipython3",
   "version": "3.9.15"
  }
 },
 "nbformat": 4,
 "nbformat_minor": 5
}
