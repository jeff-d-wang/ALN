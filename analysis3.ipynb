{
 "cells": [
  {
   "cell_type": "code",
   "execution_count": 2,
   "id": "ae278dcb",
   "metadata": {},
   "outputs": [
    {
     "name": "stdout",
     "output_type": "stream",
     "text": [
      "3\n"
     ]
    }
   ],
   "source": [
    "print('3')"
   ]
  },
  {
   "cell_type": "code",
   "execution_count": 1,
   "id": "00ad01b1",
   "metadata": {},
   "outputs": [
    {
     "name": "stdout",
     "output_type": "stream",
     "text": [
      "lol\n"
     ]
    }
   ],
   "source": [
    "print('lol')"
   ]
  },
  {
   "cell_type": "code",
   "execution_count": null,
   "id": "fa7ac5c4",
   "metadata": {},
   "outputs": [],
   "source": [
    "print('lmao')"
   ]
  },
  {
   "cell_type": "code",
   "execution_count": 3,
   "id": "7ed5eb2a",
   "metadata": {},
   "outputs": [
    {
     "name": "stdout",
     "output_type": "stream",
     "text": [
      "hmm\n"
     ]
    }
   ],
   "source": [
    "print('hmm')"
   ]
  },
  {
   "cell_type": "code",
   "execution_count": null,
   "id": "057667b1",
   "metadata": {},
   "outputs": [],
   "source": []
  }
 ],
 "metadata": {
  "kernelspec": {
   "display_name": "base",
   "language": "python",
   "name": "python3"
  },
  "language_info": {
   "codemirror_mode": {
    "name": "ipython",
    "version": 3
   },
   "file_extension": ".py",
   "mimetype": "text/x-python",
   "name": "python",
   "nbconvert_exporter": "python",
   "pygments_lexer": "ipython3",
   "version": "3.9.15"
  }
 },
 "nbformat": 4,
 "nbformat_minor": 5
}
