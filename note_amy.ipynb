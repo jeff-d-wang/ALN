{
 "cells": [
  {
   "cell_type": "code",
   "execution_count": 1,
   "id": "5ebcdadd",
   "metadata": {},
   "outputs": [],
   "source": [
    "import scanpy as sc"
   ]
  },
  {
   "cell_type": "code",
   "execution_count": 2,
   "id": "b3d45f3b",
   "metadata": {},
   "outputs": [
    {
     "name": "stdout",
     "output_type": "stream",
     "text": [
      "amy is here\n"
     ]
    }
   ],
   "source": [
    "print(\"amy is here\")"
   ]
  },
  {
   "cell_type": "code",
   "execution_count": null,
   "id": "c3546c73",
   "metadata": {},
   "outputs": [],
   "source": [
    "print(\"Amy is busy working on KCO data\")"
   ]
  }
 ],
 "metadata": {
  "kernelspec": {
   "display_name": "Python (newmac_liver_1)",
   "language": "python",
   "name": "newmac_liver_1"
  },
  "language_info": {
   "codemirror_mode": {
    "name": "ipython",
    "version": 3
   },
   "file_extension": ".py",
   "mimetype": "text/x-python",
   "name": "python",
   "nbconvert_exporter": "python",
   "pygments_lexer": "ipython3",
   "version": "3.12.11"
  }
 },
 "nbformat": 4,
 "nbformat_minor": 5
}
