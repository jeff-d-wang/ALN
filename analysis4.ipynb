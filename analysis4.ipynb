{
 "cells": [
  {
   "cell_type": "markdown",
   "id": "babb5841",
   "metadata": {},
   "source": [
    "James created another very important notebook for liver tumorigenesis analysis. "
   ]
  }
 ],
 "metadata": {
  "language_info": {
   "name": "python"
  }
 },
 "nbformat": 4,
 "nbformat_minor": 5
}
