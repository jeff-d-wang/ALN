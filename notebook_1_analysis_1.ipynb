{
 "cells": [
  {
   "cell_type": "markdown",
   "id": "d821deba",
   "metadata": {},
   "source": [
    "In this notebook we are going to find, in a Xenium dataset, the locations of a group fo NKG7+ KLRB1+ T innate cells and see what are the cell types that they are the closest to. "
   ]
  },
  {
   "cell_type": "code",
   "execution_count": null,
   "id": "5eee5716",
   "metadata": {},
   "outputs": [],
   "source": [
    "import scanpy as sc\n",
    "import pandas as pd\n",
    "import numpy as np\n",
    "import matplotlib.pyplot as plt\n",
    "import seaborn as sns\n",
    "from sklearn.decomposition import PCA\n",
    "from sklearn.manifold import TSNE, UMAP\n",
    "from sklearn.cluster import KMeans"
   ]
  },
  {
   "cell_type": "code",
   "execution_count": null,
   "id": "d94602f8",
   "metadata": {},
   "outputs": [],
   "source": [
    "print(\"James still trying to find the bug in the code.\")"
   ]
  }
 ],
 "metadata": {
  "kernelspec": {
   "display_name": "Python (newmac_liver_1)",
   "language": "python",
   "name": "newmac_liver_1"
  },
  "language_info": {
   "codemirror_mode": {
    "name": "ipython",
    "version": 3
   },
   "file_extension": ".py",
   "mimetype": "text/x-python",
   "name": "python",
   "nbconvert_exporter": "python",
   "pygments_lexer": "ipython3",
   "version": "3.12.11"
  }
 },
 "nbformat": 4,
 "nbformat_minor": 5
}
