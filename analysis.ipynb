{
 "cells": [
  {
   "cell_type": "code",
   "execution_count": 1,
   "id": "a697fcb3",
   "metadata": {},
   "outputs": [],
   "source": [
    "import matplotlib.pyplot as plt"
   ]
  },
  {
   "cell_type": "code",
   "execution_count": 18,
   "id": "84e65c02",
   "metadata": {},
   "outputs": [],
   "source": [
    "x_values = [1, 2, 3, 4, 5]\n",
    "y_values = [2, 4, 1, 5, 50]"
   ]
  },
  {
   "cell_type": "code",
   "execution_count": 19,
   "id": "65d03f31",
   "metadata": {},
   "outputs": [
    {
     "data": {
      "text/plain": [
       "[<matplotlib.lines.Line2D at 0x11ebc5d30>]"
      ]
     },
     "execution_count": 19,
     "metadata": {},
     "output_type": "execute_result"
    },
    {
     "data": {
      "image/png": "[encoded data removed]",
      "text/plain": [
       "<Figure size 432x288 with 1 Axes>"
      ]
     },
     "metadata": {
      "needs_background": "light"
     },
     "output_type": "display_data"
    }
   ],
   "source": [
    "plt.plot(x_values, y_values)"
   ]
  },
  {
   "cell_type": "code",
   "execution_count": 20,
   "id": "ead0264c",
   "metadata": {},
   "outputs": [
    {
     "name": "stdout",
     "output_type": "stream",
     "text": [
      "lol\n"
     ]
    }
   ],
   "source": [
    "print('lol')"
   ]
  },
  {
   "cell_type": "code",
   "execution_count": 21,
   "id": "1fa75498",
   "metadata": {},
   "outputs": [
    {
     "name": "stdout",
     "output_type": "stream",
     "text": [
      "lmao\n"
     ]
    }
   ],
   "source": [
    "print('lmao')"
   ]
  },
  {
   "cell_type": "code",
   "execution_count": 22,
   "id": "62e0e5f1",
   "metadata": {},
   "outputs": [
    {
     "name": "stdout",
     "output_type": "stream",
     "text": [
      "many cells\n"
     ]
    }
   ],
   "source": [
    "print('many cells')"
   ]
  },
  {
   "cell_type": "code",
   "execution_count": null,
   "id": "8cc350eb",
   "metadata": {},
   "outputs": [],
   "source": []
  }
 ],
 "metadata": {
  "kernelspec": {
   "display_name": "base",
   "language": "python",
   "name": "python3"
  },
  "language_info": {
   "codemirror_mode": {
    "name": "ipython",
    "version": 3
   },
   "file_extension": ".py",
   "mimetype": "text/x-python",
   "name": "python",
   "nbconvert_exporter": "python",
   "pygments_lexer": "ipython3",
   "version": "3.9.15"
  }
 },
 "nbformat": 4,
 "nbformat_minor": 5
}
