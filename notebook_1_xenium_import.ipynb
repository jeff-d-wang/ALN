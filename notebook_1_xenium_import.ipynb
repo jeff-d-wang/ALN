{
 "cells": [
  {
   "cell_type": "markdown",
   "id": "e80f45f5",
   "metadata": {},
   "source": [
    "In this notebook we explore the location of the a group of innate T cells. "
   ]
  },
  {
   "cell_type": "code",
   "execution_count": null,
   "id": "c6ab6e56",
   "metadata": {},
   "outputs": [],
   "source": [
    "import pandas as pd\n",
    "import scanpy as sc\n",
    "import matplotlib.pyplot as plt"
   ]
  }
 ],
 "metadata": {
  "kernelspec": {
   "display_name": "Python (newmac_liver_1)",
   "language": "python",
   "name": "newmac_liver_1"
  },
  "language_info": {
   "codemirror_mode": {
    "name": "ipython",
    "version": 3
   },
   "file_extension": ".py",
   "mimetype": "text/x-python",
   "name": "python",
   "nbconvert_exporter": "python",
   "pygments_lexer": "ipython3",
   "version": "3.12.11"
  }
 },
 "nbformat": 4,
 "nbformat_minor": 5
}
