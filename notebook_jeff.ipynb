{
 "cells": [
  {
   "cell_type": "markdown",
   "id": "7f2bdf56",
   "metadata": {},
   "source": [
    "Jeff is thinking about CMU class selection from Jian Ma"
   ]
  }
 ],
 "metadata": {
  "language_info": {
   "name": "python"
  }
 },
 "nbformat": 4,
 "nbformat_minor": 5
}
