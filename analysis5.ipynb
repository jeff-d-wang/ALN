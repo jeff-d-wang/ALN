{
 "cells": [
  {
   "cell_type": "markdown",
   "id": "ce35aea6",
   "metadata": {},
   "source": [
    "James created this brand new notebook about immune dysregulations"
   ]
  },
  {
   "cell_type": "markdown",
   "id": "34cbfac6",
   "metadata": {
    "vscode": {
     "languageId": "plaintext"
    }
   },
   "source": [
    "James continue to worry about how to perform his single cell analysis on high fat diet induced MASH symptoms. "
   ]
  }
 ],
 "metadata": {
  "language_info": {
   "name": "python"
  }
 },
 "nbformat": 4,
 "nbformat_minor": 5
}
